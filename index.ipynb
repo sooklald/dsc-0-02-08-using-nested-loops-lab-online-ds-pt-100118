{
 "cells": [
  {
   "cell_type": "markdown",
   "metadata": {},
   "source": [
    "# Using Nested Loops - Lab"
   ]
  },
  {
   "cell_type": "markdown",
   "metadata": {},
   "source": [
    "## Introduction\n",
    "In this lab, we will practice using nested loops to iterate over nested data structures and create new collections. We'll be using data from a soccer match to practice our nested loops."
   ]
  },
  {
   "cell_type": "markdown",
   "metadata": {},
   "source": [
    "## Objectives\n",
    "You will be able to:\n",
    "* Combine different types of loops\n",
    "* Understand, explain and use nested loops to iterate through nested data structures"
   ]
  },
  {
   "cell_type": "markdown",
   "metadata": {},
   "source": [
    "## Instructions"
   ]
  },
  {
   "cell_type": "markdown",
   "metadata": {},
   "source": [
    "Use nested loops and the below object, `soccer_match`, to complete the following prompts and get the desired return values.\n",
    "\n",
    "Each object's structure is identical, but make sure to have a good idea of what that structure looks like before getting started. "
   ]
  },
  {
   "cell_type": "code",
   "execution_count": 5,
   "metadata": {},
   "outputs": [],
   "source": [
    "soccer_match = [\n",
    "  { \"home_team\": True,\n",
    "    \"away_team\": False,\n",
    "    \"country\": \"France\",\n",
    "    \"num_passes\": 484,\n",
    "    \"passes_completed\": 423,\n",
    "    \"fouls_committed\": 16,\n",
    "    \"colors\": [\"blue\", \"white\", \"red\"],\n",
    "    \"players\": [\n",
    "      {\n",
    "        \"name\": \"Hugo LLORIS\",\n",
    "        \"captain\": True,\n",
    "        \"shirt_number\": 1,\n",
    "        \"position\": \"Goalie\"\n",
    "      },\n",
    "      {\n",
    "        \"name\": \"Benjamin PAVARD\",\n",
    "        \"captain\": False,\n",
    "        \"shirt_number\": 2,\n",
    "        \"position\": \"Defender\"\n",
    "      },\n",
    "      {\n",
    "        \"name\": \"Raphael VARANE\",\n",
    "        \"captain\": False,\n",
    "        \"shirt_number\": 4,\n",
    "        \"position\": \"Defender\"\n",
    "      },\n",
    "      {\n",
    "        \"name\": \"Samuel UMTITI\",\n",
    "        \"captain\": False,\n",
    "        \"shirt_number\": 5,\n",
    "        \"position\": \"Defender\"\n",
    "      },\n",
    "      {\n",
    "        \"name\": \"Paul POGBA\",\n",
    "        \"captain\": False,\n",
    "        \"shirt_number\": 6,\n",
    "        \"position\": \"Midfield\"\n",
    "      },\n",
    "      {\n",
    "        \"name\": \"Antoine GRIEZMANN\",\n",
    "        \"captain\": False,\n",
    "        \"shirt_number\": 7,\n",
    "        \"position\": \"Forward\"\n",
    "      },\n",
    "      {\n",
    "        \"name\": \"Kylian MBAPPE\",\n",
    "        \"captain\": False,\n",
    "        \"shirt_number\": 10,\n",
    "        \"position\": \"Forward\"\n",
    "      },\n",
    "      {\n",
    "        \"name\": \"Ousmane DEMBELE\",\n",
    "        \"captain\": False,\n",
    "        \"shirt_number\": 11,\n",
    "        \"position\": \"Forward\"\n",
    "      },\n",
    "      {\n",
    "        \"name\": \"Corentin TOLISSO\",\n",
    "        \"captain\": False,\n",
    "        \"shirt_number\": 12,\n",
    "        \"position\": \"Midfield\"\n",
    "      },\n",
    "      {\n",
    "        \"name\": \"Ngolo KANTE\",\n",
    "        \"captain\": False,\n",
    "        \"shirt_number\": 13,\n",
    "        \"position\": \"Midfield\"\n",
    "      },\n",
    "      {\n",
    "        \"name\": \"Lucas HERNANDEZ\",\n",
    "        \"captain\": False,\n",
    "        \"shirt_number\": 21,\n",
    "        \"position\": \"Defender\"\n",
    "      }\n",
    "    ],\n",
    "  },\n",
    "  { \"home_team\": False,\n",
    "    \"away_team\": True,\n",
    "    \"country\": \"Australia\",\n",
    "    \"num_passes\": 390,\n",
    "    \"passes_completed\": 332,\n",
    "    \"fouls_committed\": 19,\n",
    "    \"colors\": [\"green\", \"gold\"],\n",
    "    \"players\": [\n",
    "      {\n",
    "        \"name\": \"Mathew RYAN\",\n",
    "        \"captain\": False,\n",
    "        \"shirt_number\": 1,\n",
    "        \"position\": \"Goalie\"\n",
    "      },\n",
    "      {\n",
    "        \"name\": \"Mark MILLIGAN\",\n",
    "        \"captain\": False,\n",
    "        \"shirt_number\": 5,\n",
    "        \"position\": \"Defender\"\n",
    "      },\n",
    "      {\n",
    "        \"name\": \"Mathew LECKIE\",\n",
    "        \"captain\": False,\n",
    "        \"shirt_number\": 7,\n",
    "        \"position\": \"Forward\"\n",
    "      },\n",
    "      {\n",
    "        \"name\": \"Robbie KRUSE\",\n",
    "        \"captain\": False,\n",
    "        \"shirt_number\": 10,\n",
    "        \"position\": \"Forward\"\n",
    "      },\n",
    "      {\n",
    "        \"name\": \"Andrew NABBOUT\",\n",
    "        \"captain\": False,\n",
    "        \"shirt_number\": 11,\n",
    "        \"position\": \"Forward\"\n",
    "      },\n",
    "      {\n",
    "        \"name\": \"Aaron MOOY\",\n",
    "        \"captain\": False,\n",
    "        \"shirt_number\": 13,\n",
    "        \"position\": \"Midfield\"\n",
    "      },\n",
    "      {\n",
    "        \"name\": \"Mile JEDINAK\",\n",
    "        \"captain\": True,\n",
    "        \"shirt_number\": 15,\n",
    "        \"position\": \"Midfield\"\n",
    "      },\n",
    "      {\n",
    "        \"name\": \"Aziz BEHICH\",\n",
    "        \"captain\": False,\n",
    "        \"shirt_number\": 16,\n",
    "        \"position\": \"Defender\"\n",
    "      },\n",
    "      {\n",
    "        \"name\": \"Joshua RISDON\",\n",
    "        \"captain\": False,\n",
    "        \"shirt_number\": 19,\n",
    "        \"position\": \"Defender\"\n",
    "      },\n",
    "      {\n",
    "        \"name\": \"Trent SAINSBURY\",\n",
    "        \"captain\": False,\n",
    "        \"shirt_number\": 20,\n",
    "        \"position\": \"Defender\"\n",
    "      },\n",
    "      {\n",
    "        \"name\": \"Tom ROGIC\",\n",
    "        \"captain\": False,\n",
    "        \"shirt_number\": 23,\n",
    "        \"position\": \"Midfield\"\n",
    "      }\n",
    "    ]\n",
    "  }\n",
    "]"
   ]
  },
  {
   "cell_type": "code",
   "execution_count": 18,
   "metadata": {},
   "outputs": [
    {
     "name": "stdout",
     "output_type": "stream",
     "text": [
      "['France', 'Australia']\n"
     ]
    }
   ],
   "source": [
    "# iterate over the soccer_match list to create a new list with the name of the country for each team\n",
    "countries = []\n",
    "# code goes here\n",
    "for x in soccer_match:\n",
    "    countries.append(x['country'])\n",
    "print(countries)"
   ]
  },
  {
   "cell_type": "code",
   "execution_count": 9,
   "metadata": {},
   "outputs": [
    {
     "name": "stdout",
     "output_type": "stream",
     "text": [
      "[['blue', 'white', 'red'], ['blue', 'white', 'red'], ['blue', 'white', 'red'], ['green', 'gold'], ['green', 'gold']]\n"
     ]
    }
   ],
   "source": [
    "# iterate over the soccer_match list to create a new list with the colors for each team\n",
    "# this should be only one list containing strings for each of the country's colors\n",
    "colors = []\n",
    "# code goes here\n",
    "for x in soccer_match:\n",
    "    for color in x['colors']:   \n",
    "        colors.append(x['colors'])\n",
    "        \n",
    "print(colors)"
   ]
  },
  {
   "cell_type": "code",
   "execution_count": 163,
   "metadata": {},
   "outputs": [
    {
     "name": "stdout",
     "output_type": "stream",
     "text": [
      "['Hugo LLORIS', 'Benjamin PAVARD', 'Raphael VARANE', 'Samuel UMTITI', 'Paul POGBA', 'Antoine GRIEZMANN', 'Kylian MBAPPE', 'Ousmane DEMBELE', 'Corentin TOLISSO', 'Ngolo KANTE', 'Lucas HERNANDEZ', 'Mathew RYAN', 'Mark MILLIGAN', 'Mathew LECKIE', 'Robbie KRUSE', 'Andrew NABBOUT', 'Aaron MOOY', 'Mile JEDINAK', 'Aziz BEHICH', 'Joshua RISDON', 'Trent SAINSBURY', 'Tom ROGIC']\n",
      "[{'name': 'Hugo LLORIS', 'captain': True, 'shirt_number': 1, 'position': 'Goalie'}, {'name': 'Benjamin PAVARD', 'captain': False, 'shirt_number': 2, 'position': 'Defender'}, {'name': 'Raphael VARANE', 'captain': False, 'shirt_number': 4, 'position': 'Defender'}, {'name': 'Samuel UMTITI', 'captain': False, 'shirt_number': 5, 'position': 'Defender'}, {'name': 'Paul POGBA', 'captain': False, 'shirt_number': 6, 'position': 'Midfield'}, {'name': 'Antoine GRIEZMANN', 'captain': False, 'shirt_number': 7, 'position': 'Forward'}, {'name': 'Kylian MBAPPE', 'captain': False, 'shirt_number': 10, 'position': 'Forward'}, {'name': 'Ousmane DEMBELE', 'captain': False, 'shirt_number': 11, 'position': 'Forward'}, {'name': 'Corentin TOLISSO', 'captain': False, 'shirt_number': 12, 'position': 'Midfield'}, {'name': 'Ngolo KANTE', 'captain': False, 'shirt_number': 13, 'position': 'Midfield'}, {'name': 'Lucas HERNANDEZ', 'captain': False, 'shirt_number': 21, 'position': 'Defender'}, {'name': 'Mathew RYAN', 'captain': False, 'shirt_number': 1, 'position': 'Goalie'}, {'name': 'Mark MILLIGAN', 'captain': False, 'shirt_number': 5, 'position': 'Defender'}, {'name': 'Mathew LECKIE', 'captain': False, 'shirt_number': 7, 'position': 'Forward'}, {'name': 'Robbie KRUSE', 'captain': False, 'shirt_number': 10, 'position': 'Forward'}, {'name': 'Andrew NABBOUT', 'captain': False, 'shirt_number': 11, 'position': 'Forward'}, {'name': 'Aaron MOOY', 'captain': False, 'shirt_number': 13, 'position': 'Midfield'}, {'name': 'Mile JEDINAK', 'captain': True, 'shirt_number': 15, 'position': 'Midfield'}, {'name': 'Aziz BEHICH', 'captain': False, 'shirt_number': 16, 'position': 'Defender'}, {'name': 'Joshua RISDON', 'captain': False, 'shirt_number': 19, 'position': 'Defender'}, {'name': 'Trent SAINSBURY', 'captain': False, 'shirt_number': 20, 'position': 'Defender'}, {'name': 'Tom ROGIC', 'captain': False, 'shirt_number': 23, 'position': 'Midfield'}]\n"
     ]
    }
   ],
   "source": [
    "# iterate over the soccer_match list to create a new list with the players from each team\n",
    "# this should be only one list containing the dictionaries for each of the country's players\n",
    "players = []\n",
    "player_info = []\n",
    "# code goes here\n",
    "for x in soccer_match:\n",
    "    for player in x['players']:\n",
    "#         players.append(['players'])\n",
    "        players.append(player['name'])\n",
    "        player_info.append(player)\n",
    "#         print(player['name'])\n",
    "print(players)\n",
    "print(player_info)"
   ]
  },
  {
   "cell_type": "code",
   "execution_count": 41,
   "metadata": {},
   "outputs": [
    {
     "name": "stdout",
     "output_type": "stream",
     "text": [
      "[{'name': 'Hugo LLORIS', 'captain': True, 'shirt_number': 1, 'position': 'Goalie'}, {'name': 'Mile JEDINAK', 'captain': True, 'shirt_number': 15, 'position': 'Midfield'}]\n"
     ]
    }
   ],
   "source": [
    "# iterate over the soccer_match list to create a new list with the captains from each team\n",
    "# this should be only one list containing the dictionaries for each of the country's captains\n",
    "captains = []\n",
    "# code goes here\n",
    "for x in soccer_match:\n",
    "    for player in x['players']:\n",
    "        if player['captain'] == True:\n",
    "            captains.append(player)\n",
    "print(captains)\n",
    "#         players.append(['players'])\n",
    "#         print(player)"
   ]
  },
  {
   "cell_type": "code",
   "execution_count": 112,
   "metadata": {},
   "outputs": [
    {
     "name": "stdout",
     "output_type": "stream",
     "text": [
      "['Hugo Lloris', 'Benjamin Pavard', 'Raphael Varane', 'Samuel Umtiti', 'Paul Pogba', 'Antoine Griezmann', 'Kylian Mbappe', 'Ousmane Dembele', 'Corentin Tolisso', 'Ngolo Kante', 'Lucas Hernandez']\n"
     ]
    }
   ],
   "source": [
    "# iterate over the soccer_match list to create a new list with the players from ONLY the home team\n",
    "# this should be only one list containing the dictionaries for each of the home team's players\n",
    "home_team_players = []\n",
    "# code goes here\n",
    "for x in soccer_match:\n",
    "    for player in x['players']:\n",
    "        if x['home_team'] == True:\n",
    "            home_team_players.append(player['name'].title())\n",
    "print(home_team_players)\n",
    "#             print(x['players'])\n"
   ]
  },
  {
   "cell_type": "code",
   "execution_count": 122,
   "metadata": {},
   "outputs": [
    {
     "name": "stdout",
     "output_type": "stream",
     "text": [
      "['Mathew LECKIE', 'Robbie KRUSE', 'Andrew NABBOUT']\n"
     ]
    }
   ],
   "source": [
    "# iterate over the soccer_match list to create a new list \n",
    "# with the players from ONLY the away team with the position of forward\n",
    "# this should be only one list containing the dictionaries for each of the selected players\n",
    "forwards = []\n",
    "forward_info\n",
    "# code goes here\n",
    "for x in soccer_match:\n",
    "    for player in x['players']:\n",
    "        if player['position'] == 'Forward' and x['home_team'] == False:\n",
    "            forwards.append(player['name'])\n",
    "print(forwards)\n",
    "            #print(player)"
   ]
  },
  {
   "cell_type": "code",
   "execution_count": 162,
   "metadata": {},
   "outputs": [
    {
     "name": "stdout",
     "output_type": "stream",
     "text": [
      "{'name': 'Hugo LLORIS', 'captain': True, 'shirt_number': 1, 'position': 'Goalie'}\n"
     ]
    },
    {
     "ename": "TypeError",
     "evalue": "'int' object is not iterable",
     "output_type": "error",
     "traceback": [
      "\u001b[1;31m---------------------------------------------------------------------------\u001b[0m",
      "\u001b[1;31mTypeError\u001b[0m                                 Traceback (most recent call last)",
      "\u001b[1;32m<ipython-input-162-ad1bc4fe0f17>\u001b[0m in \u001b[0;36m<module>\u001b[1;34m()\u001b[0m\n\u001b[0;32m     11\u001b[0m \u001b[1;31m#         if x['shirt_number']\u001b[0m\u001b[1;33m\u001b[0m\u001b[1;33m\u001b[0m\u001b[0m\n\u001b[0;32m     12\u001b[0m         \u001b[0mprint\u001b[0m\u001b[1;33m(\u001b[0m\u001b[0mplayer\u001b[0m\u001b[1;33m)\u001b[0m\u001b[1;33m\u001b[0m\u001b[0m\n\u001b[1;32m---> 13\u001b[1;33m         \u001b[0mprint\u001b[0m\u001b[1;33m(\u001b[0m\u001b[0mmax\u001b[0m\u001b[1;33m(\u001b[0m\u001b[0mplayer\u001b[0m\u001b[1;33m[\u001b[0m\u001b[1;34m'shirt_number'\u001b[0m\u001b[1;33m]\u001b[0m\u001b[1;33m)\u001b[0m\u001b[1;33m)\u001b[0m\u001b[1;33m\u001b[0m\u001b[0m\n\u001b[0m\u001b[0;32m     14\u001b[0m \u001b[1;31m#         print(max(player['shirt_number']))\u001b[0m\u001b[1;33m\u001b[0m\u001b[1;33m\u001b[0m\u001b[0m\n\u001b[0;32m     15\u001b[0m \u001b[1;33m\u001b[0m\u001b[0m\n",
      "\u001b[1;31mTypeError\u001b[0m: 'int' object is not iterable"
     ]
    }
   ],
   "source": [
    "# iterate over the soccer_match list and find the player with the highest shirt_number\n",
    "# assign the player with the highst shirt_number to player_with_highest_num variable\n",
    "player_with_highest_num = None\n",
    "# code goes here\n",
    "for x in soccer_match:\n",
    "    for player in x['players']:\n",
    "#         maximum = max('player', key=mydict.get)  # Just use 'min' instead of 'max' for minimum.\n",
    "#         print(maximum,'player'[maximum])\n",
    "#         if player['shirt_number']) == True:\n",
    "#         print(x[shirt_number])\n",
    "#         if x['shirt_number']\n",
    "        print(player)\n",
    "        print(max(player['shirt_number']))\n",
    "#         print(max(player['shirt_number']))\n",
    "        \n",
    "#         print(max(player['shirt_number']))\n",
    "\n",
    "\n",
    "#  d= {'a':2,'b':5,'c':3}\n",
    "# >>> max(d, key=d.get)\n",
    "# 'b'"
   ]
  },
  {
   "cell_type": "code",
   "execution_count": 158,
   "metadata": {},
   "outputs": [
    {
     "name": "stdout",
     "output_type": "stream",
     "text": [
      "['Hugo Lloris', 'Benjamin Pavard', 'Raphael Varane', 'Samuel Umtiti', 'Paul Pogba', 'Antoine Griezmann', 'Kylian Mbappe', 'Ousmane Dembele', 'Corentin Tolisso', 'Ngolo Kante', 'Lucas Hernandez', 'Mathew Ryan', 'Mark Milligan', 'Mathew Leckie', 'Robbie Kruse', 'Andrew Nabbout', 'Aaron Mooy', 'Mile Jedinak', 'Aziz Behich', 'Joshua Risdon', 'Trent Sainsbury', 'Tom Rogic']\n"
     ]
    }
   ],
   "source": [
    "# as we can see, the players all have their last names in all caps, as if they are being yelled\n",
    "# we want a list of all the names of the players in this match\n",
    "# but we want both first and last names to be formatted in title case\n",
    "player_names = []\n",
    "# code goes here\n",
    "for x in soccer_match:\n",
    "    for player in x['players']:\n",
    "        player_names.append(player['name'].title())\n",
    "print(player_names)\n",
    "#         if player['position'] == 'Forward':\n",
    "#             forwards.append(player['name'])\n",
    "#             forward_info.append(player)\n",
    "# print(forwards)"
   ]
  },
  {
   "cell_type": "markdown",
   "metadata": {},
   "source": [
    "## Summary"
   ]
  },
  {
   "cell_type": "markdown",
   "metadata": {},
   "source": [
    "In this lab, we practiced using nested loops to iterate through a nested data structure using data from a soccer match. Nested data structures can be quite complicated and it can become difficult to access more nested data. With nested loops, we are able to dynamically access this nested data and work with it as we would with a flatter data structure. It is important to think about the structure of the data before and while you're working so you know exactly what data you are working with at each level."
   ]
  }
 ],
 "metadata": {
  "kernelspec": {
   "display_name": "Python 3",
   "language": "python",
   "name": "python3"
  },
  "language_info": {
   "codemirror_mode": {
    "name": "ipython",
    "version": 3
   },
   "file_extension": ".py",
   "mimetype": "text/x-python",
   "name": "python",
   "nbconvert_exporter": "python",
   "pygments_lexer": "ipython3",
   "version": "3.6.4"
  }
 },
 "nbformat": 4,
 "nbformat_minor": 2
}
